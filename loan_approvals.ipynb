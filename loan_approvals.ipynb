{
 "cells": [
  {
   "cell_type": "code",
   "execution_count": 196,
   "id": "2a2fc8e2",
   "metadata": {},
   "outputs": [],
   "source": [
    "import pandas as pd\n",
    "import numpy as np\n",
    "from sklearn.preprocessing import OneHotEncoder, OrdinalEncoder, StandardScaler\n",
    "import matplotlib.pyplot as plt\n",
    "from pandas.plotting import scatter_matrix\n",
    "from sklearn.tree import DecisionTreeClassifier\n",
    "from sklearn.metrics import accuracy_score\n",
    "from sklearn.model_selection import cross_val_score, train_test_split, learning_curve\n",
    "from sklearn.linear_model import LogisticRegression\n",
    "from sklearn.feature_selection import mutual_info_classif\n",
    "from sklearn.ensemble import RandomForestClassifier\n",
    "import tensorflow as tf"
   ]
  },
  {
   "cell_type": "code",
   "execution_count": 2,
   "id": "e4140055",
   "metadata": {},
   "outputs": [
    {
     "data": {
      "text/html": [
       "<div>\n",
       "<style scoped>\n",
       "    .dataframe tbody tr th:only-of-type {\n",
       "        vertical-align: middle;\n",
       "    }\n",
       "\n",
       "    .dataframe tbody tr th {\n",
       "        vertical-align: top;\n",
       "    }\n",
       "\n",
       "    .dataframe thead th {\n",
       "        text-align: right;\n",
       "    }\n",
       "</style>\n",
       "<table border=\"1\" class=\"dataframe\">\n",
       "  <thead>\n",
       "    <tr style=\"text-align: right;\">\n",
       "      <th></th>\n",
       "      <th>loan_id</th>\n",
       "      <th>no_of_dependents</th>\n",
       "      <th>education</th>\n",
       "      <th>self_employed</th>\n",
       "      <th>income_annum</th>\n",
       "      <th>loan_amount</th>\n",
       "      <th>loan_term</th>\n",
       "      <th>cibil_score</th>\n",
       "      <th>residential_assets_value</th>\n",
       "      <th>commercial_assets_value</th>\n",
       "      <th>luxury_assets_value</th>\n",
       "      <th>bank_asset_value</th>\n",
       "      <th>loan_status</th>\n",
       "    </tr>\n",
       "  </thead>\n",
       "  <tbody>\n",
       "    <tr>\n",
       "      <th>0</th>\n",
       "      <td>1</td>\n",
       "      <td>2</td>\n",
       "      <td>Graduate</td>\n",
       "      <td>No</td>\n",
       "      <td>9600000</td>\n",
       "      <td>29900000</td>\n",
       "      <td>12</td>\n",
       "      <td>778</td>\n",
       "      <td>2400000</td>\n",
       "      <td>17600000</td>\n",
       "      <td>22700000</td>\n",
       "      <td>8000000</td>\n",
       "      <td>Approved</td>\n",
       "    </tr>\n",
       "    <tr>\n",
       "      <th>1</th>\n",
       "      <td>2</td>\n",
       "      <td>0</td>\n",
       "      <td>Not Graduate</td>\n",
       "      <td>Yes</td>\n",
       "      <td>4100000</td>\n",
       "      <td>12200000</td>\n",
       "      <td>8</td>\n",
       "      <td>417</td>\n",
       "      <td>2700000</td>\n",
       "      <td>2200000</td>\n",
       "      <td>8800000</td>\n",
       "      <td>3300000</td>\n",
       "      <td>Rejected</td>\n",
       "    </tr>\n",
       "    <tr>\n",
       "      <th>2</th>\n",
       "      <td>3</td>\n",
       "      <td>3</td>\n",
       "      <td>Graduate</td>\n",
       "      <td>No</td>\n",
       "      <td>9100000</td>\n",
       "      <td>29700000</td>\n",
       "      <td>20</td>\n",
       "      <td>506</td>\n",
       "      <td>7100000</td>\n",
       "      <td>4500000</td>\n",
       "      <td>33300000</td>\n",
       "      <td>12800000</td>\n",
       "      <td>Rejected</td>\n",
       "    </tr>\n",
       "    <tr>\n",
       "      <th>3</th>\n",
       "      <td>4</td>\n",
       "      <td>3</td>\n",
       "      <td>Graduate</td>\n",
       "      <td>No</td>\n",
       "      <td>8200000</td>\n",
       "      <td>30700000</td>\n",
       "      <td>8</td>\n",
       "      <td>467</td>\n",
       "      <td>18200000</td>\n",
       "      <td>3300000</td>\n",
       "      <td>23300000</td>\n",
       "      <td>7900000</td>\n",
       "      <td>Rejected</td>\n",
       "    </tr>\n",
       "    <tr>\n",
       "      <th>4</th>\n",
       "      <td>5</td>\n",
       "      <td>5</td>\n",
       "      <td>Not Graduate</td>\n",
       "      <td>Yes</td>\n",
       "      <td>9800000</td>\n",
       "      <td>24200000</td>\n",
       "      <td>20</td>\n",
       "      <td>382</td>\n",
       "      <td>12400000</td>\n",
       "      <td>8200000</td>\n",
       "      <td>29400000</td>\n",
       "      <td>5000000</td>\n",
       "      <td>Rejected</td>\n",
       "    </tr>\n",
       "  </tbody>\n",
       "</table>\n",
       "</div>"
      ],
      "text/plain": [
       "   loan_id   no_of_dependents      education  self_employed   income_annum  \\\n",
       "0        1                  2       Graduate             No        9600000   \n",
       "1        2                  0   Not Graduate            Yes        4100000   \n",
       "2        3                  3       Graduate             No        9100000   \n",
       "3        4                  3       Graduate             No        8200000   \n",
       "4        5                  5   Not Graduate            Yes        9800000   \n",
       "\n",
       "    loan_amount   loan_term   cibil_score   residential_assets_value  \\\n",
       "0      29900000          12           778                    2400000   \n",
       "1      12200000           8           417                    2700000   \n",
       "2      29700000          20           506                    7100000   \n",
       "3      30700000           8           467                   18200000   \n",
       "4      24200000          20           382                   12400000   \n",
       "\n",
       "    commercial_assets_value   luxury_assets_value   bank_asset_value  \\\n",
       "0                  17600000              22700000            8000000   \n",
       "1                   2200000               8800000            3300000   \n",
       "2                   4500000              33300000           12800000   \n",
       "3                   3300000              23300000            7900000   \n",
       "4                   8200000              29400000            5000000   \n",
       "\n",
       "   loan_status  \n",
       "0     Approved  \n",
       "1     Rejected  \n",
       "2     Rejected  \n",
       "3     Rejected  \n",
       "4     Rejected  "
      ]
     },
     "execution_count": 2,
     "metadata": {},
     "output_type": "execute_result"
    }
   ],
   "source": [
    "data_filename = 'loan_approval_dataset.csv'\n",
    "data = pd.read_csv(data_filename)\n",
    "data.head()"
   ]
  },
  {
   "cell_type": "code",
   "execution_count": 3,
   "id": "a89abf22",
   "metadata": {},
   "outputs": [
    {
     "name": "stdout",
     "output_type": "stream",
     "text": [
      "<class 'pandas.core.frame.DataFrame'>\n",
      "RangeIndex: 4269 entries, 0 to 4268\n",
      "Data columns (total 13 columns):\n",
      " #   Column                     Non-Null Count  Dtype \n",
      "---  ------                     --------------  ----- \n",
      " 0   loan_id                    4269 non-null   int64 \n",
      " 1    no_of_dependents          4269 non-null   int64 \n",
      " 2    education                 4269 non-null   object\n",
      " 3    self_employed             4269 non-null   object\n",
      " 4    income_annum              4269 non-null   int64 \n",
      " 5    loan_amount               4269 non-null   int64 \n",
      " 6    loan_term                 4269 non-null   int64 \n",
      " 7    cibil_score               4269 non-null   int64 \n",
      " 8    residential_assets_value  4269 non-null   int64 \n",
      " 9    commercial_assets_value   4269 non-null   int64 \n",
      " 10   luxury_assets_value       4269 non-null   int64 \n",
      " 11   bank_asset_value          4269 non-null   int64 \n",
      " 12   loan_status               4269 non-null   object\n",
      "dtypes: int64(10), object(3)\n",
      "memory usage: 433.7+ KB\n"
     ]
    }
   ],
   "source": [
    "data.info()"
   ]
  },
  {
   "cell_type": "code",
   "execution_count": 46,
   "id": "9c25023d",
   "metadata": {},
   "outputs": [
    {
     "data": {
      "text/html": [
       "<div>\n",
       "<style scoped>\n",
       "    .dataframe tbody tr th:only-of-type {\n",
       "        vertical-align: middle;\n",
       "    }\n",
       "\n",
       "    .dataframe tbody tr th {\n",
       "        vertical-align: top;\n",
       "    }\n",
       "\n",
       "    .dataframe thead th {\n",
       "        text-align: right;\n",
       "    }\n",
       "</style>\n",
       "<table border=\"1\" class=\"dataframe\">\n",
       "  <thead>\n",
       "    <tr style=\"text-align: right;\">\n",
       "      <th></th>\n",
       "      <th>loan_id</th>\n",
       "      <th>no_of_dependents</th>\n",
       "      <th>income_annum</th>\n",
       "      <th>loan_amount</th>\n",
       "      <th>loan_term</th>\n",
       "      <th>cibil_score</th>\n",
       "      <th>residential_assets_value</th>\n",
       "      <th>commercial_assets_value</th>\n",
       "      <th>luxury_assets_value</th>\n",
       "      <th>bank_asset_value</th>\n",
       "    </tr>\n",
       "  </thead>\n",
       "  <tbody>\n",
       "    <tr>\n",
       "      <th>count</th>\n",
       "      <td>4269.000000</td>\n",
       "      <td>4269.000000</td>\n",
       "      <td>4.269000e+03</td>\n",
       "      <td>4.269000e+03</td>\n",
       "      <td>4269.000000</td>\n",
       "      <td>4269.000000</td>\n",
       "      <td>4.269000e+03</td>\n",
       "      <td>4.269000e+03</td>\n",
       "      <td>4.269000e+03</td>\n",
       "      <td>4.269000e+03</td>\n",
       "    </tr>\n",
       "    <tr>\n",
       "      <th>mean</th>\n",
       "      <td>2135.000000</td>\n",
       "      <td>2.498712</td>\n",
       "      <td>5.059124e+06</td>\n",
       "      <td>1.513345e+07</td>\n",
       "      <td>10.900445</td>\n",
       "      <td>599.936051</td>\n",
       "      <td>7.472617e+06</td>\n",
       "      <td>4.973155e+06</td>\n",
       "      <td>1.512631e+07</td>\n",
       "      <td>4.976692e+06</td>\n",
       "    </tr>\n",
       "    <tr>\n",
       "      <th>std</th>\n",
       "      <td>1232.498479</td>\n",
       "      <td>1.695910</td>\n",
       "      <td>2.806840e+06</td>\n",
       "      <td>9.043363e+06</td>\n",
       "      <td>5.709187</td>\n",
       "      <td>172.430401</td>\n",
       "      <td>6.503637e+06</td>\n",
       "      <td>4.388966e+06</td>\n",
       "      <td>9.103754e+06</td>\n",
       "      <td>3.250185e+06</td>\n",
       "    </tr>\n",
       "    <tr>\n",
       "      <th>min</th>\n",
       "      <td>1.000000</td>\n",
       "      <td>0.000000</td>\n",
       "      <td>2.000000e+05</td>\n",
       "      <td>3.000000e+05</td>\n",
       "      <td>2.000000</td>\n",
       "      <td>300.000000</td>\n",
       "      <td>-1.000000e+05</td>\n",
       "      <td>0.000000e+00</td>\n",
       "      <td>3.000000e+05</td>\n",
       "      <td>0.000000e+00</td>\n",
       "    </tr>\n",
       "    <tr>\n",
       "      <th>25%</th>\n",
       "      <td>1068.000000</td>\n",
       "      <td>1.000000</td>\n",
       "      <td>2.700000e+06</td>\n",
       "      <td>7.700000e+06</td>\n",
       "      <td>6.000000</td>\n",
       "      <td>453.000000</td>\n",
       "      <td>2.200000e+06</td>\n",
       "      <td>1.300000e+06</td>\n",
       "      <td>7.500000e+06</td>\n",
       "      <td>2.300000e+06</td>\n",
       "    </tr>\n",
       "    <tr>\n",
       "      <th>50%</th>\n",
       "      <td>2135.000000</td>\n",
       "      <td>3.000000</td>\n",
       "      <td>5.100000e+06</td>\n",
       "      <td>1.450000e+07</td>\n",
       "      <td>10.000000</td>\n",
       "      <td>600.000000</td>\n",
       "      <td>5.600000e+06</td>\n",
       "      <td>3.700000e+06</td>\n",
       "      <td>1.460000e+07</td>\n",
       "      <td>4.600000e+06</td>\n",
       "    </tr>\n",
       "    <tr>\n",
       "      <th>75%</th>\n",
       "      <td>3202.000000</td>\n",
       "      <td>4.000000</td>\n",
       "      <td>7.500000e+06</td>\n",
       "      <td>2.150000e+07</td>\n",
       "      <td>16.000000</td>\n",
       "      <td>748.000000</td>\n",
       "      <td>1.130000e+07</td>\n",
       "      <td>7.600000e+06</td>\n",
       "      <td>2.170000e+07</td>\n",
       "      <td>7.100000e+06</td>\n",
       "    </tr>\n",
       "    <tr>\n",
       "      <th>max</th>\n",
       "      <td>4269.000000</td>\n",
       "      <td>5.000000</td>\n",
       "      <td>9.900000e+06</td>\n",
       "      <td>3.950000e+07</td>\n",
       "      <td>20.000000</td>\n",
       "      <td>900.000000</td>\n",
       "      <td>2.910000e+07</td>\n",
       "      <td>1.940000e+07</td>\n",
       "      <td>3.920000e+07</td>\n",
       "      <td>1.470000e+07</td>\n",
       "    </tr>\n",
       "  </tbody>\n",
       "</table>\n",
       "</div>"
      ],
      "text/plain": [
       "           loan_id  no_of_dependents  income_annum   loan_amount    loan_term  \\\n",
       "count  4269.000000       4269.000000  4.269000e+03  4.269000e+03  4269.000000   \n",
       "mean   2135.000000          2.498712  5.059124e+06  1.513345e+07    10.900445   \n",
       "std    1232.498479          1.695910  2.806840e+06  9.043363e+06     5.709187   \n",
       "min       1.000000          0.000000  2.000000e+05  3.000000e+05     2.000000   \n",
       "25%    1068.000000          1.000000  2.700000e+06  7.700000e+06     6.000000   \n",
       "50%    2135.000000          3.000000  5.100000e+06  1.450000e+07    10.000000   \n",
       "75%    3202.000000          4.000000  7.500000e+06  2.150000e+07    16.000000   \n",
       "max    4269.000000          5.000000  9.900000e+06  3.950000e+07    20.000000   \n",
       "\n",
       "       cibil_score  residential_assets_value  commercial_assets_value  \\\n",
       "count  4269.000000              4.269000e+03             4.269000e+03   \n",
       "mean    599.936051              7.472617e+06             4.973155e+06   \n",
       "std     172.430401              6.503637e+06             4.388966e+06   \n",
       "min     300.000000             -1.000000e+05             0.000000e+00   \n",
       "25%     453.000000              2.200000e+06             1.300000e+06   \n",
       "50%     600.000000              5.600000e+06             3.700000e+06   \n",
       "75%     748.000000              1.130000e+07             7.600000e+06   \n",
       "max     900.000000              2.910000e+07             1.940000e+07   \n",
       "\n",
       "       luxury_assets_value  bank_asset_value  \n",
       "count         4.269000e+03      4.269000e+03  \n",
       "mean          1.512631e+07      4.976692e+06  \n",
       "std           9.103754e+06      3.250185e+06  \n",
       "min           3.000000e+05      0.000000e+00  \n",
       "25%           7.500000e+06      2.300000e+06  \n",
       "50%           1.460000e+07      4.600000e+06  \n",
       "75%           2.170000e+07      7.100000e+06  \n",
       "max           3.920000e+07      1.470000e+07  "
      ]
     },
     "execution_count": 46,
     "metadata": {},
     "output_type": "execute_result"
    }
   ],
   "source": [
    "data.describe()"
   ]
  },
  {
   "cell_type": "markdown",
   "id": "dd1e00ec",
   "metadata": {},
   "source": [
    "## Findings\n",
    "1. No need to impute data\n",
    "2. Need to scale **income_annum**, **loan_amount**, **loan_term**, **cibil_score**, **residential_assets_value**, **commercial_assets_value**, **luxury_assets_value** and **bank_asset_value**\n",
    "3. Remove loan_id\n",
    "4. Discretise **education**, **self_employed** and **loan_status**"
   ]
  },
  {
   "cell_type": "markdown",
   "id": "f77ce119",
   "metadata": {},
   "source": [
    "### Remove loan_id and Split X and y Data"
   ]
  },
  {
   "cell_type": "code",
   "execution_count": 5,
   "id": "6f79e96e",
   "metadata": {},
   "outputs": [
    {
     "data": {
      "text/html": [
       "<div>\n",
       "<style scoped>\n",
       "    .dataframe tbody tr th:only-of-type {\n",
       "        vertical-align: middle;\n",
       "    }\n",
       "\n",
       "    .dataframe tbody tr th {\n",
       "        vertical-align: top;\n",
       "    }\n",
       "\n",
       "    .dataframe thead th {\n",
       "        text-align: right;\n",
       "    }\n",
       "</style>\n",
       "<table border=\"1\" class=\"dataframe\">\n",
       "  <thead>\n",
       "    <tr style=\"text-align: right;\">\n",
       "      <th></th>\n",
       "      <th>no_of_dependents</th>\n",
       "      <th>education</th>\n",
       "      <th>self_employed</th>\n",
       "      <th>income_annum</th>\n",
       "      <th>loan_amount</th>\n",
       "      <th>loan_term</th>\n",
       "      <th>cibil_score</th>\n",
       "      <th>residential_assets_value</th>\n",
       "      <th>commercial_assets_value</th>\n",
       "      <th>luxury_assets_value</th>\n",
       "      <th>bank_asset_value</th>\n",
       "    </tr>\n",
       "  </thead>\n",
       "  <tbody>\n",
       "    <tr>\n",
       "      <th>0</th>\n",
       "      <td>2</td>\n",
       "      <td>Graduate</td>\n",
       "      <td>No</td>\n",
       "      <td>9600000</td>\n",
       "      <td>29900000</td>\n",
       "      <td>12</td>\n",
       "      <td>778</td>\n",
       "      <td>2400000</td>\n",
       "      <td>17600000</td>\n",
       "      <td>22700000</td>\n",
       "      <td>8000000</td>\n",
       "    </tr>\n",
       "    <tr>\n",
       "      <th>1</th>\n",
       "      <td>0</td>\n",
       "      <td>Not Graduate</td>\n",
       "      <td>Yes</td>\n",
       "      <td>4100000</td>\n",
       "      <td>12200000</td>\n",
       "      <td>8</td>\n",
       "      <td>417</td>\n",
       "      <td>2700000</td>\n",
       "      <td>2200000</td>\n",
       "      <td>8800000</td>\n",
       "      <td>3300000</td>\n",
       "    </tr>\n",
       "    <tr>\n",
       "      <th>2</th>\n",
       "      <td>3</td>\n",
       "      <td>Graduate</td>\n",
       "      <td>No</td>\n",
       "      <td>9100000</td>\n",
       "      <td>29700000</td>\n",
       "      <td>20</td>\n",
       "      <td>506</td>\n",
       "      <td>7100000</td>\n",
       "      <td>4500000</td>\n",
       "      <td>33300000</td>\n",
       "      <td>12800000</td>\n",
       "    </tr>\n",
       "    <tr>\n",
       "      <th>3</th>\n",
       "      <td>3</td>\n",
       "      <td>Graduate</td>\n",
       "      <td>No</td>\n",
       "      <td>8200000</td>\n",
       "      <td>30700000</td>\n",
       "      <td>8</td>\n",
       "      <td>467</td>\n",
       "      <td>18200000</td>\n",
       "      <td>3300000</td>\n",
       "      <td>23300000</td>\n",
       "      <td>7900000</td>\n",
       "    </tr>\n",
       "    <tr>\n",
       "      <th>4</th>\n",
       "      <td>5</td>\n",
       "      <td>Not Graduate</td>\n",
       "      <td>Yes</td>\n",
       "      <td>9800000</td>\n",
       "      <td>24200000</td>\n",
       "      <td>20</td>\n",
       "      <td>382</td>\n",
       "      <td>12400000</td>\n",
       "      <td>8200000</td>\n",
       "      <td>29400000</td>\n",
       "      <td>5000000</td>\n",
       "    </tr>\n",
       "  </tbody>\n",
       "</table>\n",
       "</div>"
      ],
      "text/plain": [
       "   no_of_dependents      education self_employed  income_annum  loan_amount  \\\n",
       "0                 2       Graduate            No       9600000     29900000   \n",
       "1                 0   Not Graduate           Yes       4100000     12200000   \n",
       "2                 3       Graduate            No       9100000     29700000   \n",
       "3                 3       Graduate            No       8200000     30700000   \n",
       "4                 5   Not Graduate           Yes       9800000     24200000   \n",
       "\n",
       "   loan_term  cibil_score  residential_assets_value  commercial_assets_value  \\\n",
       "0         12          778                   2400000                 17600000   \n",
       "1          8          417                   2700000                  2200000   \n",
       "2         20          506                   7100000                  4500000   \n",
       "3          8          467                  18200000                  3300000   \n",
       "4         20          382                  12400000                  8200000   \n",
       "\n",
       "   luxury_assets_value  bank_asset_value  \n",
       "0             22700000           8000000  \n",
       "1              8800000           3300000  \n",
       "2             33300000          12800000  \n",
       "3             23300000           7900000  \n",
       "4             29400000           5000000  "
      ]
     },
     "execution_count": 5,
     "metadata": {},
     "output_type": "execute_result"
    }
   ],
   "source": [
    "cols = [x.strip() for x in data.columns]\n",
    "data.columns = cols\n",
    "X_cols = [x for x in cols if x not in {'loan_status', 'loan_id'}]\n",
    "X_data = data[X_cols]\n",
    "y_data = data['loan_status']\n",
    "X_data.head()"
   ]
  },
  {
   "cell_type": "markdown",
   "id": "61d6bcfd",
   "metadata": {},
   "source": [
    "### Encode the Discrete Data"
   ]
  },
  {
   "cell_type": "code",
   "execution_count": 7,
   "id": "052deeea",
   "metadata": {},
   "outputs": [
    {
     "data": {
      "text/html": [
       "<div>\n",
       "<style scoped>\n",
       "    .dataframe tbody tr th:only-of-type {\n",
       "        vertical-align: middle;\n",
       "    }\n",
       "\n",
       "    .dataframe tbody tr th {\n",
       "        vertical-align: top;\n",
       "    }\n",
       "\n",
       "    .dataframe thead th {\n",
       "        text-align: right;\n",
       "    }\n",
       "</style>\n",
       "<table border=\"1\" class=\"dataframe\">\n",
       "  <thead>\n",
       "    <tr style=\"text-align: right;\">\n",
       "      <th></th>\n",
       "      <th>no_of_dependents</th>\n",
       "      <th>income_annum</th>\n",
       "      <th>loan_amount</th>\n",
       "      <th>loan_term</th>\n",
       "      <th>cibil_score</th>\n",
       "      <th>residential_assets_value</th>\n",
       "      <th>commercial_assets_value</th>\n",
       "      <th>luxury_assets_value</th>\n",
       "      <th>bank_asset_value</th>\n",
       "      <th>education_ Graduate</th>\n",
       "      <th>education_ Not Graduate</th>\n",
       "      <th>self_employed_ No</th>\n",
       "      <th>self_employed_ Yes</th>\n",
       "    </tr>\n",
       "  </thead>\n",
       "  <tbody>\n",
       "    <tr>\n",
       "      <th>0</th>\n",
       "      <td>2</td>\n",
       "      <td>9600000</td>\n",
       "      <td>29900000</td>\n",
       "      <td>12</td>\n",
       "      <td>778</td>\n",
       "      <td>2400000</td>\n",
       "      <td>17600000</td>\n",
       "      <td>22700000</td>\n",
       "      <td>8000000</td>\n",
       "      <td>1.0</td>\n",
       "      <td>0.0</td>\n",
       "      <td>1.0</td>\n",
       "      <td>0.0</td>\n",
       "    </tr>\n",
       "    <tr>\n",
       "      <th>1</th>\n",
       "      <td>0</td>\n",
       "      <td>4100000</td>\n",
       "      <td>12200000</td>\n",
       "      <td>8</td>\n",
       "      <td>417</td>\n",
       "      <td>2700000</td>\n",
       "      <td>2200000</td>\n",
       "      <td>8800000</td>\n",
       "      <td>3300000</td>\n",
       "      <td>0.0</td>\n",
       "      <td>1.0</td>\n",
       "      <td>0.0</td>\n",
       "      <td>1.0</td>\n",
       "    </tr>\n",
       "    <tr>\n",
       "      <th>2</th>\n",
       "      <td>3</td>\n",
       "      <td>9100000</td>\n",
       "      <td>29700000</td>\n",
       "      <td>20</td>\n",
       "      <td>506</td>\n",
       "      <td>7100000</td>\n",
       "      <td>4500000</td>\n",
       "      <td>33300000</td>\n",
       "      <td>12800000</td>\n",
       "      <td>1.0</td>\n",
       "      <td>0.0</td>\n",
       "      <td>1.0</td>\n",
       "      <td>0.0</td>\n",
       "    </tr>\n",
       "    <tr>\n",
       "      <th>3</th>\n",
       "      <td>3</td>\n",
       "      <td>8200000</td>\n",
       "      <td>30700000</td>\n",
       "      <td>8</td>\n",
       "      <td>467</td>\n",
       "      <td>18200000</td>\n",
       "      <td>3300000</td>\n",
       "      <td>23300000</td>\n",
       "      <td>7900000</td>\n",
       "      <td>1.0</td>\n",
       "      <td>0.0</td>\n",
       "      <td>1.0</td>\n",
       "      <td>0.0</td>\n",
       "    </tr>\n",
       "    <tr>\n",
       "      <th>4</th>\n",
       "      <td>5</td>\n",
       "      <td>9800000</td>\n",
       "      <td>24200000</td>\n",
       "      <td>20</td>\n",
       "      <td>382</td>\n",
       "      <td>12400000</td>\n",
       "      <td>8200000</td>\n",
       "      <td>29400000</td>\n",
       "      <td>5000000</td>\n",
       "      <td>0.0</td>\n",
       "      <td>1.0</td>\n",
       "      <td>0.0</td>\n",
       "      <td>1.0</td>\n",
       "    </tr>\n",
       "  </tbody>\n",
       "</table>\n",
       "</div>"
      ],
      "text/plain": [
       "   no_of_dependents  income_annum  loan_amount  loan_term  cibil_score  \\\n",
       "0                 2       9600000     29900000         12          778   \n",
       "1                 0       4100000     12200000          8          417   \n",
       "2                 3       9100000     29700000         20          506   \n",
       "3                 3       8200000     30700000          8          467   \n",
       "4                 5       9800000     24200000         20          382   \n",
       "\n",
       "   residential_assets_value  commercial_assets_value  luxury_assets_value  \\\n",
       "0                   2400000                 17600000             22700000   \n",
       "1                   2700000                  2200000              8800000   \n",
       "2                   7100000                  4500000             33300000   \n",
       "3                  18200000                  3300000             23300000   \n",
       "4                  12400000                  8200000             29400000   \n",
       "\n",
       "   bank_asset_value  education_ Graduate  education_ Not Graduate  \\\n",
       "0           8000000                  1.0                      0.0   \n",
       "1           3300000                  0.0                      1.0   \n",
       "2          12800000                  1.0                      0.0   \n",
       "3           7900000                  1.0                      0.0   \n",
       "4           5000000                  0.0                      1.0   \n",
       "\n",
       "   self_employed_ No  self_employed_ Yes  \n",
       "0                1.0                 0.0  \n",
       "1                0.0                 1.0  \n",
       "2                1.0                 0.0  \n",
       "3                1.0                 0.0  \n",
       "4                0.0                 1.0  "
      ]
     },
     "execution_count": 7,
     "metadata": {},
     "output_type": "execute_result"
    }
   ],
   "source": [
    "encoder = OneHotEncoder(handle_unknown='ignore')\n",
    "encoder.fit(X_data[['education', 'self_employed']])\n",
    "data_encoded_cols = pd.DataFrame(\n",
    "    encoder.transform(X_data[['education', 'self_employed']]).toarray(), \n",
    "    columns=encoder.get_feature_names_out())\n",
    "X_data_encoded = X_data.drop(['education', 'self_employed'], axis=1)\n",
    "X_data_encoded = pd.concat([X_data_encoded, data_encoded_cols], axis=1)\n",
    "X_data_encoded.head()"
   ]
  },
  {
   "cell_type": "code",
   "execution_count": 19,
   "id": "f234fdd5",
   "metadata": {},
   "outputs": [
    {
     "data": {
      "text/plain": [
       "array([0., 1., 1., ..., 1., 0., 0.])"
      ]
     },
     "execution_count": 19,
     "metadata": {},
     "output_type": "execute_result"
    }
   ],
   "source": [
    "ordinal_encoder = OrdinalEncoder()\n",
    "y_data_encoded = ordinal_encoder.fit_transform(y_data.values.reshape(-1, 1))\n",
    "y_data_encoded = y_data_encoded.flatten()\n",
    "y_data_encoded"
   ]
  },
  {
   "cell_type": "markdown",
   "id": "599e9ad4",
   "metadata": {},
   "source": [
    "### Bucketise the Annual Income"
   ]
  },
  {
   "cell_type": "code",
   "execution_count": 45,
   "id": "75054474",
   "metadata": {},
   "outputs": [
    {
     "name": "stderr",
     "output_type": "stream",
     "text": [
      "/tmp/ipykernel_5478/2813039194.py:6: SettingWithCopyWarning: \n",
      "A value is trying to be set on a copy of a slice from a DataFrame.\n",
      "Try using .loc[row_indexer,col_indexer] = value instead\n",
      "\n",
      "See the caveats in the documentation: https://pandas.pydata.org/pandas-docs/stable/user_guide/indexing.html#returning-a-view-versus-a-copy\n",
      "  X_data['income_annum_cat'] = income_annum_cat\n"
     ]
    },
    {
     "data": {
      "image/png": "[encoded data removed]",
      "text/plain": [
       "<Figure size 640x480 with 1 Axes>"
      ]
     },
     "metadata": {},
     "output_type": "display_data"
    }
   ],
   "source": [
    "income_annum_cat = pd.cut(\n",
    "    X_data['income_annum'], \n",
    "    bins=[0., 2_000_000, 4_000_000, 6_000_000, 8_000_000, np.inf],\n",
    "    labels=[1, 2, 3, 4, 5])\n",
    "\n",
    "X_data['income_annum_cat'] = income_annum_cat\n",
    "X_data['income_annum_cat'].value_counts().sort_index().plot(kind='bar', edgecolor='black', rot=0)\n",
    "plt.xlabel('Number of Applicants')\n",
    "plt.ylabel('Income Category')\n",
    "plt.show()"
   ]
  },
  {
   "cell_type": "markdown",
   "id": "2180e6ca",
   "metadata": {},
   "source": [
    "### Scale the Continuous Data"
   ]
  },
  {
   "cell_type": "code",
   "execution_count": 79,
   "id": "2e3bad4d",
   "metadata": {},
   "outputs": [
    {
     "name": "stderr",
     "output_type": "stream",
     "text": [
      "/tmp/ipykernel_5478/4011639473.py:3: SettingWithCopyWarning: \n",
      "A value is trying to be set on a copy of a slice from a DataFrame.\n",
      "Try using .loc[row_indexer,col_indexer] = value instead\n",
      "\n",
      "See the caveats in the documentation: https://pandas.pydata.org/pandas-docs/stable/user_guide/indexing.html#returning-a-view-versus-a-copy\n",
      "  X_data[X_data_num.columns] = X_data_num_scaled[X_data_num.columns]\n"
     ]
    },
    {
     "data": {
      "text/html": [
       "<div>\n",
       "<style scoped>\n",
       "    .dataframe tbody tr th:only-of-type {\n",
       "        vertical-align: middle;\n",
       "    }\n",
       "\n",
       "    .dataframe tbody tr th {\n",
       "        vertical-align: top;\n",
       "    }\n",
       "\n",
       "    .dataframe thead th {\n",
       "        text-align: right;\n",
       "    }\n",
       "</style>\n",
       "<table border=\"1\" class=\"dataframe\">\n",
       "  <thead>\n",
       "    <tr style=\"text-align: right;\">\n",
       "      <th></th>\n",
       "      <th>no_of_dependents</th>\n",
       "      <th>education</th>\n",
       "      <th>self_employed</th>\n",
       "      <th>income_annum</th>\n",
       "      <th>loan_amount</th>\n",
       "      <th>loan_term</th>\n",
       "      <th>cibil_score</th>\n",
       "      <th>residential_assets_value</th>\n",
       "      <th>commercial_assets_value</th>\n",
       "      <th>luxury_assets_value</th>\n",
       "      <th>bank_asset_value</th>\n",
       "      <th>income_annum_cat</th>\n",
       "    </tr>\n",
       "  </thead>\n",
       "  <tbody>\n",
       "    <tr>\n",
       "      <th>0</th>\n",
       "      <td>-0.294102</td>\n",
       "      <td>Graduate</td>\n",
       "      <td>No</td>\n",
       "      <td>1.617979</td>\n",
       "      <td>1.633052</td>\n",
       "      <td>0.192617</td>\n",
       "      <td>1.032792</td>\n",
       "      <td>-0.780058</td>\n",
       "      <td>2.877289</td>\n",
       "      <td>0.832028</td>\n",
       "      <td>0.930304</td>\n",
       "      <td>5</td>\n",
       "    </tr>\n",
       "    <tr>\n",
       "      <th>1</th>\n",
       "      <td>-1.473548</td>\n",
       "      <td>Not Graduate</td>\n",
       "      <td>Yes</td>\n",
       "      <td>-0.341750</td>\n",
       "      <td>-0.324414</td>\n",
       "      <td>-0.508091</td>\n",
       "      <td>-1.061051</td>\n",
       "      <td>-0.733924</td>\n",
       "      <td>-0.631921</td>\n",
       "      <td>-0.694993</td>\n",
       "      <td>-0.515936</td>\n",
       "      <td>3</td>\n",
       "    </tr>\n",
       "    <tr>\n",
       "      <th>2</th>\n",
       "      <td>0.295621</td>\n",
       "      <td>Graduate</td>\n",
       "      <td>No</td>\n",
       "      <td>1.439822</td>\n",
       "      <td>1.610933</td>\n",
       "      <td>1.594031</td>\n",
       "      <td>-0.544840</td>\n",
       "      <td>-0.057300</td>\n",
       "      <td>-0.107818</td>\n",
       "      <td>1.996520</td>\n",
       "      <td>2.407316</td>\n",
       "      <td>5</td>\n",
       "    </tr>\n",
       "    <tr>\n",
       "      <th>3</th>\n",
       "      <td>0.295621</td>\n",
       "      <td>Graduate</td>\n",
       "      <td>No</td>\n",
       "      <td>1.119139</td>\n",
       "      <td>1.721525</td>\n",
       "      <td>-0.508091</td>\n",
       "      <td>-0.771045</td>\n",
       "      <td>1.649637</td>\n",
       "      <td>-0.381263</td>\n",
       "      <td>0.897943</td>\n",
       "      <td>0.899533</td>\n",
       "      <td>5</td>\n",
       "    </tr>\n",
       "    <tr>\n",
       "      <th>4</th>\n",
       "      <td>1.475067</td>\n",
       "      <td>Not Graduate</td>\n",
       "      <td>Yes</td>\n",
       "      <td>1.689242</td>\n",
       "      <td>1.002681</td>\n",
       "      <td>1.594031</td>\n",
       "      <td>-1.264055</td>\n",
       "      <td>0.757724</td>\n",
       "      <td>0.735304</td>\n",
       "      <td>1.568075</td>\n",
       "      <td>0.007172</td>\n",
       "      <td>5</td>\n",
       "    </tr>\n",
       "    <tr>\n",
       "      <th>...</th>\n",
       "      <td>...</td>\n",
       "      <td>...</td>\n",
       "      <td>...</td>\n",
       "      <td>...</td>\n",
       "      <td>...</td>\n",
       "      <td>...</td>\n",
       "      <td>...</td>\n",
       "      <td>...</td>\n",
       "      <td>...</td>\n",
       "      <td>...</td>\n",
       "      <td>...</td>\n",
       "      <td>...</td>\n",
       "    </tr>\n",
       "    <tr>\n",
       "      <th>4264</th>\n",
       "      <td>1.475067</td>\n",
       "      <td>Graduate</td>\n",
       "      <td>Yes</td>\n",
       "      <td>-1.446324</td>\n",
       "      <td>-1.419268</td>\n",
       "      <td>0.192617</td>\n",
       "      <td>-1.641063</td>\n",
       "      <td>-0.718546</td>\n",
       "      <td>-1.019301</td>\n",
       "      <td>-1.299210</td>\n",
       "      <td>-1.285213</td>\n",
       "      <td>1</td>\n",
       "    </tr>\n",
       "    <tr>\n",
       "      <th>4265</th>\n",
       "      <td>-1.473548</td>\n",
       "      <td>Not Graduate</td>\n",
       "      <td>Yes</td>\n",
       "      <td>-0.626801</td>\n",
       "      <td>-0.423946</td>\n",
       "      <td>1.594031</td>\n",
       "      <td>-0.237434</td>\n",
       "      <td>-0.503257</td>\n",
       "      <td>-0.472412</td>\n",
       "      <td>-0.453306</td>\n",
       "      <td>-0.946732</td>\n",
       "      <td>2</td>\n",
       "    </tr>\n",
       "    <tr>\n",
       "      <th>4266</th>\n",
       "      <td>-0.294102</td>\n",
       "      <td>Not Graduate</td>\n",
       "      <td>No</td>\n",
       "      <td>0.513405</td>\n",
       "      <td>0.969504</td>\n",
       "      <td>1.243677</td>\n",
       "      <td>-0.829046</td>\n",
       "      <td>-0.964591</td>\n",
       "      <td>1.692361</td>\n",
       "      <td>0.326683</td>\n",
       "      <td>0.714907</td>\n",
       "      <td>4</td>\n",
       "    </tr>\n",
       "    <tr>\n",
       "      <th>4267</th>\n",
       "      <td>-0.883825</td>\n",
       "      <td>Not Graduate</td>\n",
       "      <td>No</td>\n",
       "      <td>-0.341750</td>\n",
       "      <td>-0.258059</td>\n",
       "      <td>-0.508091</td>\n",
       "      <td>1.044393</td>\n",
       "      <td>0.111856</td>\n",
       "      <td>-0.973727</td>\n",
       "      <td>-0.112748</td>\n",
       "      <td>0.253341</td>\n",
       "      <td>3</td>\n",
       "    </tr>\n",
       "    <tr>\n",
       "      <th>4268</th>\n",
       "      <td>-0.883825</td>\n",
       "      <td>Graduate</td>\n",
       "      <td>No</td>\n",
       "      <td>1.475453</td>\n",
       "      <td>1.610933</td>\n",
       "      <td>-0.157737</td>\n",
       "      <td>0.040972</td>\n",
       "      <td>1.588126</td>\n",
       "      <td>1.555638</td>\n",
       "      <td>2.260178</td>\n",
       "      <td>2.161148</td>\n",
       "      <td>5</td>\n",
       "    </tr>\n",
       "  </tbody>\n",
       "</table>\n",
       "<p>4269 rows × 12 columns</p>\n",
       "</div>"
      ],
      "text/plain": [
       "      no_of_dependents      education self_employed  income_annum  \\\n",
       "0            -0.294102       Graduate            No      1.617979   \n",
       "1            -1.473548   Not Graduate           Yes     -0.341750   \n",
       "2             0.295621       Graduate            No      1.439822   \n",
       "3             0.295621       Graduate            No      1.119139   \n",
       "4             1.475067   Not Graduate           Yes      1.689242   \n",
       "...                ...            ...           ...           ...   \n",
       "4264          1.475067       Graduate           Yes     -1.446324   \n",
       "4265         -1.473548   Not Graduate           Yes     -0.626801   \n",
       "4266         -0.294102   Not Graduate            No      0.513405   \n",
       "4267         -0.883825   Not Graduate            No     -0.341750   \n",
       "4268         -0.883825       Graduate            No      1.475453   \n",
       "\n",
       "      loan_amount  loan_term  cibil_score  residential_assets_value  \\\n",
       "0        1.633052   0.192617     1.032792                 -0.780058   \n",
       "1       -0.324414  -0.508091    -1.061051                 -0.733924   \n",
       "2        1.610933   1.594031    -0.544840                 -0.057300   \n",
       "3        1.721525  -0.508091    -0.771045                  1.649637   \n",
       "4        1.002681   1.594031    -1.264055                  0.757724   \n",
       "...           ...        ...          ...                       ...   \n",
       "4264    -1.419268   0.192617    -1.641063                 -0.718546   \n",
       "4265    -0.423946   1.594031    -0.237434                 -0.503257   \n",
       "4266     0.969504   1.243677    -0.829046                 -0.964591   \n",
       "4267    -0.258059  -0.508091     1.044393                  0.111856   \n",
       "4268     1.610933  -0.157737     0.040972                  1.588126   \n",
       "\n",
       "      commercial_assets_value  luxury_assets_value  bank_asset_value  \\\n",
       "0                    2.877289             0.832028          0.930304   \n",
       "1                   -0.631921            -0.694993         -0.515936   \n",
       "2                   -0.107818             1.996520          2.407316   \n",
       "3                   -0.381263             0.897943          0.899533   \n",
       "4                    0.735304             1.568075          0.007172   \n",
       "...                       ...                  ...               ...   \n",
       "4264                -1.019301            -1.299210         -1.285213   \n",
       "4265                -0.472412            -0.453306         -0.946732   \n",
       "4266                 1.692361             0.326683          0.714907   \n",
       "4267                -0.973727            -0.112748          0.253341   \n",
       "4268                 1.555638             2.260178          2.161148   \n",
       "\n",
       "     income_annum_cat  \n",
       "0                   5  \n",
       "1                   3  \n",
       "2                   5  \n",
       "3                   5  \n",
       "4                   5  \n",
       "...               ...  \n",
       "4264                1  \n",
       "4265                2  \n",
       "4266                4  \n",
       "4267                3  \n",
       "4268                5  \n",
       "\n",
       "[4269 rows x 12 columns]"
      ]
     },
     "execution_count": 79,
     "metadata": {},
     "output_type": "execute_result"
    }
   ],
   "source": [
    "standard_scaler = StandardScaler()\n",
    "X_data_num_scaled = pd.DataFrame(standard_scaler.fit_transform(X_data_num), columns=X_data_num.columns)\n",
    "X_data_encoded[X_data_num_scaled.columns] = X_data_num_scaled\n",
    "X_data_encoded.shape"
   ]
  },
  {
   "cell_type": "markdown",
   "id": "6f0ad76e",
   "metadata": {},
   "source": [
    "### Trying Various Models"
   ]
  },
  {
   "cell_type": "code",
   "execution_count": 113,
   "id": "15901165",
   "metadata": {},
   "outputs": [],
   "source": [
    "X_train_full, X_test, y_train_full, y_test = train_test_split(X_data_encoded, y_data_encoded, test_size=0.33, random_state=42)\n",
    "X_train, X_val, y_train, y_val = train_test_split(X_train_full, y_train_full, test_size=0.33, random_state=42)\n",
    "\n",
    "X_train = X_train.astype(np.float32)\n",
    "y_train = y_train.astype(np.float32)\n",
    "X_val = X_val.astype(np.float32)\n",
    "y_val = y_val.astype(np.float32)"
   ]
  },
  {
   "cell_type": "markdown",
   "id": "c6f3e8a8",
   "metadata": {},
   "source": [
    "### Decision Tree"
   ]
  },
  {
   "cell_type": "code",
   "execution_count": 141,
   "id": "54b05fc6",
   "metadata": {},
   "outputs": [
    {
     "data": {
      "text/plain": [
       "0.9779985805535841"
      ]
     },
     "execution_count": 141,
     "metadata": {},
     "output_type": "execute_result"
    }
   ],
   "source": [
    "decision_tree_clf = DecisionTreeClassifier()\n",
    "decision_tree_clf.fit(X_train_full, y_train_full)\n",
    "accuracy_score(decision_tree_clf.predict(X_test), y_test)"
   ]
  },
  {
   "cell_type": "code",
   "execution_count": 175,
   "id": "6076a214",
   "metadata": {},
   "outputs": [
    {
     "data": {
      "image/png": "[encoded data removed]",
      "text/plain": [
       "<Figure size 640x480 with 1 Axes>"
      ]
     },
     "metadata": {},
     "output_type": "display_data"
    }
   ],
   "source": [
    "train_size_abs, train_scores, test_scores = learning_curve(\n",
    "    DecisionTreeClassifier(), X_train_full, y_train_full, train_sizes=[0.3, 0.6, 0.9])\n",
    "plt.plot(train_size_abs, np.average(train_scores, axis=1), label='train')\n",
    "plt.plot(train_size_abs, np.average(test_scores, axis=1), label='test')\n",
    "plt.legend()\n",
    "plt.show()"
   ]
  },
  {
   "cell_type": "markdown",
   "id": "a3c2e197",
   "metadata": {},
   "source": [
    "### Logistic Regression"
   ]
  },
  {
   "cell_type": "code",
   "execution_count": 161,
   "id": "cd0f2416",
   "metadata": {},
   "outputs": [
    {
     "data": {
      "text/plain": [
       "array([0.92740047, 0.92505855, 0.92505855, 0.92037471, 0.92974239,\n",
       "       0.8969555 , 0.92505855, 0.91569087, 0.90398126, 0.90610329])"
      ]
     },
     "execution_count": 161,
     "metadata": {},
     "output_type": "execute_result"
    }
   ],
   "source": [
    "cross_val_score(LogisticRegression(), X_data_encoded, y=y_data, cv=10, scoring='accuracy')"
   ]
  },
  {
   "cell_type": "code",
   "execution_count": 171,
   "id": "9809ce8c",
   "metadata": {},
   "outputs": [
    {
     "data": {
      "image/png": "[encoded data removed]",
      "text/plain": [
       "<Figure size 640x480 with 1 Axes>"
      ]
     },
     "metadata": {},
     "output_type": "display_data"
    }
   ],
   "source": [
    "train_size_abs, train_scores, test_scores = learning_curve(\n",
    "    LogisticRegression(), X_train_full, y_train_full, train_sizes=[0.3, 0.6, 0.9])\n",
    "plt.plot(train_size_abs, np.average(train_scores, axis=1), label='train')\n",
    "plt.plot(train_size_abs, np.average(test_scores, axis=1), label='test')\n",
    "plt.title('Logistic Regression Learning Curve')\n",
    "plt.legend()\n",
    "plt.show()"
   ]
  },
  {
   "cell_type": "markdown",
   "id": "17fc033b",
   "metadata": {},
   "source": [
    "### Shallow Neural Network"
   ]
  },
  {
   "cell_type": "code",
   "execution_count": 128,
   "id": "ac2eced9",
   "metadata": {},
   "outputs": [],
   "source": [
    "tf.random.set_seed(42)\n",
    "model = tf.keras.Sequential([\n",
    "    tf.keras.Input(shape=(13, )),\n",
    "    tf.keras.layers.Dense(10, activation=\"relu\"),\n",
    "    tf.keras.layers.Dense(10, activation=\"relu\"),\n",
    "    tf.keras.layers.Dense(1, activation=\"sigmoid\")\n",
    "])\n",
    "model.compile(loss=\"BinaryCrossentropy\",\n",
    "              optimizer=\"Adam\",\n",
    "              metrics=[\"accuracy\"])"
   ]
  },
  {
   "cell_type": "code",
   "execution_count": 129,
   "id": "df067f3e",
   "metadata": {},
   "outputs": [
    {
     "name": "stdout",
     "output_type": "stream",
     "text": [
      "Epoch 1/30\n",
      "60/60 [==============================] - 1s 9ms/step - loss: 0.7149 - accuracy: 0.5104 - val_loss: 0.6739 - val_accuracy: 0.5985\n",
      "Epoch 2/30\n",
      "60/60 [==============================] - 0s 3ms/step - loss: 0.6453 - accuracy: 0.6320 - val_loss: 0.6148 - val_accuracy: 0.6960\n",
      "Epoch 3/30\n",
      "60/60 [==============================] - 0s 4ms/step - loss: 0.5892 - accuracy: 0.7343 - val_loss: 0.5524 - val_accuracy: 0.7436\n",
      "Epoch 4/30\n",
      "60/60 [==============================] - 0s 4ms/step - loss: 0.5238 - accuracy: 0.7803 - val_loss: 0.4784 - val_accuracy: 0.8210\n",
      "Epoch 5/30\n",
      "60/60 [==============================] - 0s 5ms/step - loss: 0.4447 - accuracy: 0.8419 - val_loss: 0.3926 - val_accuracy: 0.8708\n",
      "Epoch 6/30\n",
      "60/60 [==============================] - 0s 5ms/step - loss: 0.3590 - accuracy: 0.8862 - val_loss: 0.3128 - val_accuracy: 0.9047\n",
      "Epoch 7/30\n",
      "60/60 [==============================] - 0s 3ms/step - loss: 0.2862 - accuracy: 0.9191 - val_loss: 0.2604 - val_accuracy: 0.9184\n",
      "Epoch 8/30\n",
      "60/60 [==============================] - 0s 4ms/step - loss: 0.2417 - accuracy: 0.9264 - val_loss: 0.2320 - val_accuracy: 0.9227\n",
      "Epoch 9/30\n",
      "60/60 [==============================] - 0s 4ms/step - loss: 0.2168 - accuracy: 0.9358 - val_loss: 0.2127 - val_accuracy: 0.9258\n",
      "Epoch 10/30\n",
      "60/60 [==============================] - 0s 4ms/step - loss: 0.2021 - accuracy: 0.9384 - val_loss: 0.2026 - val_accuracy: 0.9258\n",
      "Epoch 11/30\n",
      "60/60 [==============================] - 0s 4ms/step - loss: 0.1922 - accuracy: 0.9410 - val_loss: 0.1948 - val_accuracy: 0.9280\n",
      "Epoch 12/30\n",
      "60/60 [==============================] - 0s 3ms/step - loss: 0.1849 - accuracy: 0.9431 - val_loss: 0.1884 - val_accuracy: 0.9280\n",
      "Epoch 13/30\n",
      "60/60 [==============================] - 0s 4ms/step - loss: 0.1781 - accuracy: 0.9436 - val_loss: 0.1803 - val_accuracy: 0.9258\n",
      "Epoch 14/30\n",
      "60/60 [==============================] - 0s 5ms/step - loss: 0.1736 - accuracy: 0.9405 - val_loss: 0.1763 - val_accuracy: 0.9280\n",
      "Epoch 15/30\n",
      "60/60 [==============================] - 0s 4ms/step - loss: 0.1681 - accuracy: 0.9431 - val_loss: 0.1721 - val_accuracy: 0.9269\n",
      "Epoch 16/30\n",
      "60/60 [==============================] - 0s 3ms/step - loss: 0.1648 - accuracy: 0.9431 - val_loss: 0.1647 - val_accuracy: 0.9269\n",
      "Epoch 17/30\n",
      "60/60 [==============================] - 0s 3ms/step - loss: 0.1605 - accuracy: 0.9468 - val_loss: 0.1626 - val_accuracy: 0.9280\n",
      "Epoch 18/30\n",
      "60/60 [==============================] - 0s 3ms/step - loss: 0.1571 - accuracy: 0.9468 - val_loss: 0.1596 - val_accuracy: 0.9269\n",
      "Epoch 19/30\n",
      "60/60 [==============================] - 0s 4ms/step - loss: 0.1545 - accuracy: 0.9457 - val_loss: 0.1552 - val_accuracy: 0.9322\n",
      "Epoch 20/30\n",
      "60/60 [==============================] - 0s 4ms/step - loss: 0.1509 - accuracy: 0.9468 - val_loss: 0.1488 - val_accuracy: 0.9354\n",
      "Epoch 21/30\n",
      "60/60 [==============================] - 0s 3ms/step - loss: 0.1480 - accuracy: 0.9473 - val_loss: 0.1460 - val_accuracy: 0.9364\n",
      "Epoch 22/30\n",
      "60/60 [==============================] - 0s 4ms/step - loss: 0.1448 - accuracy: 0.9494 - val_loss: 0.1475 - val_accuracy: 0.9428\n",
      "Epoch 23/30\n",
      "60/60 [==============================] - 0s 5ms/step - loss: 0.1427 - accuracy: 0.9515 - val_loss: 0.1416 - val_accuracy: 0.9407\n",
      "Epoch 24/30\n",
      "60/60 [==============================] - 0s 3ms/step - loss: 0.1409 - accuracy: 0.9509 - val_loss: 0.1376 - val_accuracy: 0.9428\n",
      "Epoch 25/30\n",
      "60/60 [==============================] - 0s 3ms/step - loss: 0.1388 - accuracy: 0.9504 - val_loss: 0.1362 - val_accuracy: 0.9407\n",
      "Epoch 26/30\n",
      "60/60 [==============================] - 0s 3ms/step - loss: 0.1375 - accuracy: 0.9525 - val_loss: 0.1345 - val_accuracy: 0.9439\n",
      "Epoch 27/30\n",
      "60/60 [==============================] - 0s 3ms/step - loss: 0.1351 - accuracy: 0.9530 - val_loss: 0.1339 - val_accuracy: 0.9449\n",
      "Epoch 28/30\n",
      "60/60 [==============================] - 0s 4ms/step - loss: 0.1324 - accuracy: 0.9546 - val_loss: 0.1294 - val_accuracy: 0.9460\n",
      "Epoch 29/30\n",
      "60/60 [==============================] - 0s 3ms/step - loss: 0.1316 - accuracy: 0.9546 - val_loss: 0.1285 - val_accuracy: 0.9481\n",
      "Epoch 30/30\n",
      "60/60 [==============================] - 0s 4ms/step - loss: 0.1295 - accuracy: 0.9582 - val_loss: 0.1269 - val_accuracy: 0.9481\n"
     ]
    }
   ],
   "source": [
    "# Assuming 'model' is your TensorFlow model\n",
    "history = model.fit(X_train, y_train, epochs=30, validation_data=(X_val, y_val))"
   ]
  },
  {
   "cell_type": "code",
   "execution_count": 116,
   "id": "0260f341",
   "metadata": {},
   "outputs": [
    {
     "data": {
      "image/png": "[encoded data removed]",
      "text/plain": [
       "<Figure size 800x500 with 1 Axes>"
      ]
     },
     "metadata": {},
     "output_type": "display_data"
    }
   ],
   "source": [
    "pd.DataFrame(history.history).plot(\n",
    "    figsize=(8, 5), xlim=[0, 29], ylim=[0, 1], grid=True, xlabel=\"Epoch\",\n",
    "    style=[\"r--\", \"r--.\", \"b-\", \"b-*\"])\n",
    "plt.show()"
   ]
  },
  {
   "cell_type": "code",
   "execution_count": 131,
   "id": "c9ede70d",
   "metadata": {},
   "outputs": [
    {
     "name": "stdout",
     "output_type": "stream",
     "text": [
      "45/45 [==============================] - 0s 2ms/step\n"
     ]
    },
    {
     "data": {
      "text/plain": [
       "array([[0.99905926],\n",
       "       [0.15019779],\n",
       "       [0.9947932 ],\n",
       "       ...,\n",
       "       [0.01820307],\n",
       "       [0.69028944],\n",
       "       [0.0445138 ]], dtype=float32)"
      ]
     },
     "execution_count": 131,
     "metadata": {},
     "output_type": "execute_result"
    }
   ],
   "source": [
    "yhat = model.predict(X_test)\n",
    "yhat"
   ]
  },
  {
   "cell_type": "code",
   "execution_count": 136,
   "id": "4489ef82",
   "metadata": {},
   "outputs": [
    {
     "data": {
      "text/plain": [
       "array([1., 0., 1., ..., 0., 1., 0.], dtype=float32)"
      ]
     },
     "execution_count": 136,
     "metadata": {},
     "output_type": "execute_result"
    }
   ],
   "source": [
    "yhat = np.round(yhat.flatten())\n",
    "yhat"
   ]
  },
  {
   "cell_type": "code",
   "execution_count": 137,
   "id": "cadf2157",
   "metadata": {},
   "outputs": [
    {
     "data": {
      "text/plain": [
       "0.9375443577004968"
      ]
     },
     "execution_count": 137,
     "metadata": {},
     "output_type": "execute_result"
    }
   ],
   "source": [
    "accuracy_score(yhat, y_test)"
   ]
  },
  {
   "cell_type": "markdown",
   "id": "7380162a",
   "metadata": {},
   "source": [
    "## Findings\n",
    "- The models all have very high performance, with Decision Tree performing the best\n",
    "- Logistic Regression overfits slightly, while Decision Tree slightly underfits\n",
    "- The performance is great from the very start"
   ]
  },
  {
   "cell_type": "markdown",
   "id": "317d418e",
   "metadata": {},
   "source": [
    "## Investigation\n",
    "Check the mutual information of the data and see why it performs so well"
   ]
  },
  {
   "cell_type": "code",
   "execution_count": 182,
   "id": "509b285a",
   "metadata": {},
   "outputs": [
    {
     "data": {
      "text/plain": [
       "array([0.50351019])"
      ]
     },
     "execution_count": 182,
     "metadata": {},
     "output_type": "execute_result"
    }
   ],
   "source": [
    "mutual_info_classif(X_data_encoded[['cibil_score']], y_data_encoded)"
   ]
  },
  {
   "cell_type": "markdown",
   "id": "c1097f70",
   "metadata": {},
   "source": [
    "## Finding\n",
    "Only the **cibil_score** has a high mutual information score\n",
    "\n",
    "## Investigation\n",
    "Find the accuracy of the model if it just uses **cibil_score**"
   ]
  },
  {
   "cell_type": "code",
   "execution_count": 187,
   "id": "6b1f4989",
   "metadata": {},
   "outputs": [
    {
     "data": {
      "text/plain": [
       "array([0.93356643, 0.93006993, 0.96503497, 0.94405594, 0.94405594,\n",
       "       0.93006993, 0.93006993, 0.94755245, 0.97552448, 0.93006993])"
      ]
     },
     "execution_count": 187,
     "metadata": {},
     "output_type": "execute_result"
    }
   ],
   "source": [
    "cross_val_score(DecisionTreeClassifier(), X_train_full[['cibil_score']], y_train_full, scoring='accuracy', cv=10)"
   ]
  },
  {
   "cell_type": "markdown",
   "id": "745bafdb",
   "metadata": {},
   "source": [
    "## Finding\n",
    "- With just **cibil_score** alone, the model has an extremely high performance\n",
    "- Therefore, it is the **cibil_score** that is carrying the whole model"
   ]
  },
  {
   "cell_type": "code",
   "execution_count": 189,
   "id": "5059089a",
   "metadata": {},
   "outputs": [
    {
     "data": {
      "text/plain": [
       "array([0.59440559, 0.63286713, 0.6013986 , 0.5979021 , 0.6048951 ,\n",
       "       0.61888112, 0.61888112, 0.61188811, 0.61538462, 0.61888112])"
      ]
     },
     "execution_count": 189,
     "metadata": {},
     "output_type": "execute_result"
    }
   ],
   "source": [
    "cross_val_score(\n",
    "    LogisticRegression(), X_train_full.drop(['cibil_score'], axis=1), y_train_full, scoring='accuracy', cv=10)"
   ]
  },
  {
   "cell_type": "markdown",
   "id": "13f4b3f5",
   "metadata": {},
   "source": [
    "## Investigation\n",
    "What will be the learning of the model without **cibil_score**?"
   ]
  },
  {
   "cell_type": "code",
   "execution_count": 194,
   "id": "3d892845",
   "metadata": {},
   "outputs": [
    {
     "data": {
      "image/png": "[encoded data removed]",
      "text/plain": [
       "<Figure size 640x480 with 1 Axes>"
      ]
     },
     "metadata": {},
     "output_type": "display_data"
    }
   ],
   "source": [
    "train_size_abs, train_scores, test_scores = learning_curve(\n",
    "    LogisticRegression(), X_train_full.drop(['cibil_score'], axis=1), y_train_full, train_sizes=[0.3, 0.6, 0.9])\n",
    "plt.plot(train_size_abs, np.average(train_scores, axis=1), label='train')\n",
    "plt.plot(train_size_abs, np.average(test_scores, axis=1), label='test')\n",
    "plt.title('Logistic Regression Learning Curve')\n",
    "plt.legend()\n",
    "plt.show()"
   ]
  },
  {
   "cell_type": "code",
   "execution_count": 195,
   "id": "8dbed44e",
   "metadata": {},
   "outputs": [
    {
     "data": {
      "image/png": "[encoded data removed]",
      "text/plain": [
       "<Figure size 640x480 with 1 Axes>"
      ]
     },
     "metadata": {},
     "output_type": "display_data"
    }
   ],
   "source": [
    "train_size_abs, train_scores, test_scores = learning_curve(\n",
    "    DecisionTreeClassifier(), X_train_full.drop(['cibil_score'], axis=1), y_train_full, train_sizes=[0.3, 0.6, 0.9])\n",
    "plt.plot(train_size_abs, np.average(train_scores, axis=1), label='train')\n",
    "plt.plot(train_size_abs, np.average(test_scores, axis=1), label='test')\n",
    "plt.title('Logistic Regression Learning Curve')\n",
    "plt.legend()\n",
    "plt.show()"
   ]
  },
  {
   "cell_type": "code",
   "execution_count": 197,
   "id": "fd4690db",
   "metadata": {},
   "outputs": [
    {
     "data": {
      "image/png": "[encoded data removed]",
      "text/plain": [
       "<Figure size 640x480 with 1 Axes>"
      ]
     },
     "metadata": {},
     "output_type": "display_data"
    }
   ],
   "source": [
    "train_size_abs, train_scores, test_scores = learning_curve(\n",
    "    RandomForestClassifier(), X_train_full.drop(['cibil_score'], axis=1), y_train_full, train_sizes=[0.3, 0.6, 0.9])\n",
    "plt.plot(train_size_abs, np.average(train_scores, axis=1), label='train')\n",
    "plt.plot(train_size_abs, np.average(test_scores, axis=1), label='test')\n",
    "plt.title('Logistic Regression Learning Curve')\n",
    "plt.legend()\n",
    "plt.show()"
   ]
  },
  {
   "cell_type": "markdown",
   "id": "093e0573",
   "metadata": {},
   "source": [
    "## Finding\n",
    "The logistic regression model converges to a very low value, meaning this model has high bias. The decision tree is very far from converging, meaning that it is high in variance. Random Forest also doesn't help"
   ]
  },
  {
   "cell_type": "code",
   "execution_count": null,
   "id": "fc044e7d",
   "metadata": {},
   "outputs": [],
   "source": []
  }
 ],
 "metadata": {
  "kernelspec": {
   "display_name": "Python 3 (ipykernel)",
   "language": "python",
   "name": "python3"
  },
  "language_info": {
   "codemirror_mode": {
    "name": "ipython",
    "version": 3
   },
   "file_extension": ".py",
   "mimetype": "text/x-python",
   "name": "python",
   "nbconvert_exporter": "python",
   "pygments_lexer": "ipython3",
   "version": "3.11.3"
  }
 },
 "nbformat": 4,
 "nbformat_minor": 5
}
